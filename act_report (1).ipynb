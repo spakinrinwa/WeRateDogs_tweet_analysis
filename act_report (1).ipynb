{
 "cells": [
  {
   "cell_type": "markdown",
   "metadata": {},
   "source": [
    "## Report: act_report\n",
    "* This report communicates the insights and displays the visualization(s) produced from the wrangled data. This is to be framed as an external document."
   ]
  },
  {
   "cell_type": "markdown",
   "metadata": {},
   "source": [
    "The following insights were derived from the data.\n",
    "###### rating numerator\n",
    "* 1.71 percent of dogs are above the average rating numerator value. The average rating numerator value is 19.19/10, The highest rating numerator value is 2016 while the lowest rating numerator value is 0. The modal rating numerator value is 12, the median value is 11, while the mean rating_numerator value is 19.91. The rating numerator distribution is right skewed.  \n",
    "\n",
    "###### favourite count\n",
    "* 29.55 percent of dogs are above the average favourite_count. The average favoourite_count value is 7054.12.  The favourite_count is right skewed with 75% entries between 0 and 8604. \n",
    "\n",
    "###### favourite count grouped by rating numerator\n",
    "* The [boxplot.png](https://viewf6b31853.udacity-student-workspaces.com/view/Images/boxplot.png) shows that the favourite_count grouped by the rating_numerator values. While considering only the integer values ranging from 10 to 14, the rating_numerator of 14 has the maximum favourite_count and the highest median favourite_count followed by 13, 12, 11 and then 10. Also, from the boxplots, the higher the rating, the greater the favourite_counts if the numerator values considered are between 10 and 14. This shows a kind of positive correlation between the rating numerator values between 10 and 14 and the favourite_count values \n",
    "\n",
    "                     The following chart shows the dog classes distribution."
   ]
  },
  {
   "cell_type": "markdown",
   "metadata": {},
   "source": [
    "![image](pie_chart.png)"
   ]
  },
  {
   "cell_type": "markdown",
   "metadata": {},
   "source": [
    "* This pie chart shows that the pupper class has the highest number of dogs, followed by the doggo class. "
   ]
  },
  {
   "cell_type": "markdown",
   "metadata": {},
   "source": [
    "###### Average retweet count by dog classes\n",
    "\n",
    "![average_retweet.png](average_retweet.png)\n",
    "\n",
    "* The average retweet_count plot shows that the doggo, puppo class has the highest mean retweet count, followed by the doggo and puppo class. This shows that if we had the same number of dogs in all the classes, the doggo, puppo class would have the highest retweet_count, followed by the duggo and puppo class."
   ]
  },
  {
   "cell_type": "markdown",
   "metadata": {},
   "source": [
    "###### Average favourite count by dog classes\n",
    "\n",
    "![average_favourite.png](average_favourite.png)\n",
    "\n",
    "* >Considering the mean favourite_counts for the dog classes, doggo, puppo class has the highest average number of favourite_count of above 42,000. This is followed by puppo, and the doggo class.\n",
    "\n",
    "It seem that the doggo, puppo class has the highest retweet and favourite counts, and the charts are somewhat in agreement, hence the need to find the correlation between the favourite count and retweet.\n"
   ]
  },
  {
   "cell_type": "markdown",
   "metadata": {},
   "source": [
    "###### Correlation between  favourite_count and retweet_count\n",
    "\n",
    "![correlation_1.png](correlation_1.png)\n",
    "\n",
    "* The correlation coefficient is **0.80**. There is a **high positive correlation** between retweet_count and favourite_count. The \n",
    "retweet_count and favourite_count are positively correlated. "
   ]
  },
  {
   "cell_type": "markdown",
   "metadata": {},
   "source": [
    "###### Top Favourite dogs\n",
    "\n",
    "![favourite_dogs.jpg](favourite_dogs.jpg)\n",
    "                \n",
    "                   The table above shows the top five most favourite dogs."
   ]
  },
  {
   "cell_type": "markdown",
   "metadata": {},
   "source": [
    "#### Most favourite dog 1\n",
    "![favourite_1](favourite_1.png)\n",
    "\n",
    "###### This is the Number 1 favourite dog. It is a Labrador_retriever. It was rated as13.0 /10, favourite count is 144883.0, retweet count is 70732.0\n"
   ]
  },
  {
   "cell_type": "markdown",
   "metadata": {},
   "source": [
    "#### Most favourite dog 2\n",
    "![favourite_2](favourite_2.png)\n",
    "###### This is the Number 2 favourite dog. It is a Lakeland_terrier. It was rated as 13.0/10, favourite count is 124115.0, retweet count is 39923.0\n"
   ]
  },
  {
   "cell_type": "markdown",
   "metadata": {},
   "source": [
    "#### Highest rated dog\n",
    "\n",
    "![maximum_rating](maximum_rating.png)\n",
    "###### This is a dog with a highest rating. It is a standard_poodle. It was rated as 14.0/10, favourite count is 82708.0, retweet count is 34546.0\n",
    "\n",
    "\n",
    "* The dog with the highest rating is **not** the dog that has the most favourite count. "
   ]
  },
  {
   "cell_type": "markdown",
   "metadata": {},
   "source": [
    "To see if there is a correlation between rating_numerator and favourite_count\n",
    "\n",
    "###### Correlation between rating_numerator and favourite_count\n",
    "![correlation_2.png](correlation_2.png)\n",
    "\n",
    "* The correlation coefficient is **-0.03**. There is  **no correlation relationship** between the rating_numerator and the favourite_count. "
   ]
  },
  {
   "cell_type": "markdown",
   "metadata": {},
   "source": []
  }
 ],
 "metadata": {
  "kernelspec": {
   "display_name": "Python 3",
   "language": "python",
   "name": "python3"
  },
  "language_info": {
   "codemirror_mode": {
    "name": "ipython",
    "version": 3
   },
   "file_extension": ".py",
   "mimetype": "text/x-python",
   "name": "python",
   "nbconvert_exporter": "python",
   "pygments_lexer": "ipython3",
   "version": "3.6.3"
  }
 },
 "nbformat": 4,
 "nbformat_minor": 2
}
